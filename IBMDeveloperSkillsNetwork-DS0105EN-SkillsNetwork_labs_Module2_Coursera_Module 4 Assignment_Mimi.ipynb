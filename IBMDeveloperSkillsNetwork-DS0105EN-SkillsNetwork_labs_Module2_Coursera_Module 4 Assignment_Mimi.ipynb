{
  "metadata": {
    "language_info": {
      "codemirror_mode": {
        "name": "python",
        "version": 3
      },
      "file_extension": ".py",
      "mimetype": "text/x-python",
      "name": "python",
      "nbconvert_exporter": "python",
      "pygments_lexer": "ipython3",
      "version": "3.8"
    },
    "kernelspec": {
      "name": "python",
      "display_name": "Pyolite",
      "language": "python"
    }
  },
  "nbformat_minor": 4,
  "nbformat": 4,
  "cells": [
    {
      "cell_type": "markdown",
      "source": "# My Jupyter Notebook on IBM Watson Studio",
      "metadata": {}
    },
    {
      "cell_type": "markdown",
      "source": "**Mimi Boussouf**  \nMachine Learning Engineer",
      "metadata": {}
    },
    {
      "cell_type": "markdown",
      "source": "*I am interested in data science because I find it super fun. Being able to use math, data, coding and a bit of creativity to try to uncover insights and make predictions about the future - what's not to love?*",
      "metadata": {}
    },
    {
      "cell_type": "markdown",
      "source": "### My code in the below cell should multiply the number 2 by 2 to render the result 4.",
      "metadata": {}
    },
    {
      "cell_type": "code",
      "source": "2*2",
      "metadata": {
        "trusted": true
      },
      "execution_count": 1,
      "outputs": [
        {
          "execution_count": 1,
          "output_type": "execute_result",
          "data": {
            "text/plain": "4"
          },
          "metadata": {}
        }
      ]
    },
    {
      "cell_type": "markdown",
      "source": "| column 1 | column 2 | column 3 |\n| ------ | ------ | ------ |\n| X | Y | Z |\n\n| column 1 | column 2 | column 3 |\n| ------ | ------ | ------ |\n| A | B | C |\n\n<a href=\"https://www.youtube.com/watch?v=G7KNmW9a75Y\">Miley Cyrus's New Song - Flowers </a> \n\n* Bullet 1\n* Bullet 2\n* Bullet 3\n\n1. Numbered List Item 1\n2. Numbered List Item 2\n3. Numbered List Item 3",
      "metadata": {}
    },
    {
      "cell_type": "code",
      "source": "",
      "metadata": {},
      "execution_count": null,
      "outputs": []
    }
  ]
}